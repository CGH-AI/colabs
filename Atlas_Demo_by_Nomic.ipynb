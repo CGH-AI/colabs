{
  "nbformat": 4,
  "nbformat_minor": 0,
  "metadata": {
    "colab": {
      "provenance": [],
      "include_colab_link": true
    },
    "kernelspec": {
      "name": "python3",
      "display_name": "Python 3"
    },
    "language_info": {
      "name": "python"
    }
  },
  "cells": [
    {
      "cell_type": "markdown",
      "metadata": {
        "id": "view-in-github",
        "colab_type": "text"
      },
      "source": [
        "<a href=\"https://colab.research.google.com/github/CGH-AI/colabs/blob/main/Atlas_Demo_by_Nomic.ipynb\" target=\"_parent\"><img src=\"https://colab.research.google.com/assets/colab-badge.svg\" alt=\"Open In Colab\"/></a>"
      ]
    },
    {
      "cell_type": "markdown",
      "source": [
        "**Using Atlas to Visualize a Dataset of Text**\n",
        "\n",
        "See [docs.nomic.ai](https://docs.nomic.ai) for documentation."
      ],
      "metadata": {
        "id": "DU0NasCBFHI0"
      }
    },
    {
      "cell_type": "code",
      "execution_count": null,
      "metadata": {
        "id": "bV3EP-aJC53E"
      },
      "outputs": [],
      "source": [
        "!pip install --upgrade nomic"
      ]
    },
    {
      "cell_type": "code",
      "source": [
        "import nomic\n",
        "from nomic import atlas\n",
        "nomic.login('7xDPkYXSYDc1_ErdTPIcoAR9RNd8YDlkS3nVNXcVoIMZ6') #api key to a limited demo account. Make your own account at atlas.nomic.ai "
      ],
      "metadata": {
        "id": "8R8Nj8O5EDJg"
      },
      "execution_count": null,
      "outputs": []
    },
    {
      "cell_type": "code",
      "source": [
        "#A map of random embeddings\n",
        "import numpy as np\n",
        "\n",
        "num_embeddings = 10000\n",
        "embeddings = np.random.rand(num_embeddings, 256)\n",
        "\n",
        "project = atlas.map_embeddings(embeddings=embeddings)\n",
        "print(project.maps)"
      ],
      "metadata": {
        "id": "wJk2snwBEJYu"
      },
      "execution_count": null,
      "outputs": []
    },
    {
      "cell_type": "code",
      "source": [
        "# run this cell to interact with your map in \n",
        "project.maps[0]"
      ],
      "metadata": {
        "colab": {
          "base_uri": "https://localhost:8080/",
          "height": 675
        },
        "id": "odSeviEEF20_",
        "outputId": "0f66088f-87a3-4801-d4d8-5f4fc103ad14"
      },
      "execution_count": null,
      "outputs": [
        {
          "output_type": "execute_result",
          "data": {
            "text/plain": [
              "charming-shaw: https://atlas.nomic.ai/map/e2d9e8ad-e721-4a34-a62a-e8135cd53ace/f48b1db3-785d-483d-aac2-fff048dcf2fb"
            ],
            "text/html": [
              "\n",
              "            <h3>Project: charming-shaw</h3>\n",
              "            <script>\n",
              "            destroy = function() {\n",
              "                document.getElementById(\"iframef48b1db3-785d-483d-aac2-fff048dcf2fb\").remove()\n",
              "            }\n",
              "        </script>\n",
              "\n",
              "        <h4>Projection ID: f48b1db3-785d-483d-aac2-fff048dcf2fb</h4>\n",
              "        <div class=\"actions\">\n",
              "            <div id=\"hide\" class=\"action\" onclick=\"destroy()\">Hide embedded project</div>\n",
              "            <div class=\"action\" id=\"out\">\n",
              "                <a href=\"https://atlas.nomic.ai/map/e2d9e8ad-e721-4a34-a62a-e8135cd53ace/f48b1db3-785d-483d-aac2-fff048dcf2fb\" target=\"_blank\">Explore on atlas.nomic.ai</a>\n",
              "            </div>\n",
              "        </div>\n",
              "        \n",
              "        <iframe class=\"iframe\" id=\"iframef48b1db3-785d-483d-aac2-fff048dcf2fb\" allow=\"clipboard-read; clipboard-write\" src=\"https://atlas.nomic.ai/map/e2d9e8ad-e721-4a34-a62a-e8135cd53ace/f48b1db3-785d-483d-aac2-fff048dcf2fb\">\n",
              "        </iframe>\n",
              "\n",
              "        <style>\n",
              "            .iframe {\n",
              "                /* vh can be **very** large in vscode ipynb. */\n",
              "                height: min(75vh, 66vw);\n",
              "                width: 100%;\n",
              "            }\n",
              "        </style>\n",
              "        \n",
              "        <style>\n",
              "            .actions {\n",
              "              display: block;\n",
              "            }\n",
              "            .action {\n",
              "              min-height: 18px;\n",
              "              margin: 5px;\n",
              "              transition: all 500ms ease-in-out;\n",
              "            }\n",
              "            .action:hover {\n",
              "              cursor: pointer;\n",
              "            }\n",
              "            #hide:hover::after {\n",
              "                content: \" X\";\n",
              "            }\n",
              "            #out:hover::after {\n",
              "                content: \"\";\n",
              "            }\n",
              "        </style>\n",
              "        \n",
              "            "
            ]
          },
          "metadata": {},
          "execution_count": 12
        }
      ]
    },
    {
      "cell_type": "markdown",
      "source": [
        "**Now a make a map of a news dataset**\n",
        "\n",
        "This will take roughly 5 minutes to complete."
      ],
      "metadata": {
        "id": "jz8gLsfeG5Vf"
      }
    },
    {
      "cell_type": "code",
      "source": [
        "!pip install datasets\n",
        "from datasets import load_dataset\n",
        "\n",
        "dataset = load_dataset('ag_news')['train']\n",
        "\n",
        "max_documents = 10000\n",
        "subset_idxs = np.random.randint(len(dataset), size=max_documents).tolist()\n",
        "documents = [dataset[i] for i in subset_idxs]\n",
        "for i in range(max_documents):\n",
        "  documents[i]['id'] = i\n",
        "\n",
        "project = atlas.map_text(data=documents,\n",
        "                         id_field='id',\n",
        "                          indexed_field='text',\n",
        "                          description='News 10k Example.'\n",
        "                          )"
      ],
      "metadata": {
        "id": "jYOVXTzxF7_n"
      },
      "execution_count": null,
      "outputs": []
    },
    {
      "cell_type": "code",
      "source": [
        "project.maps[0] #show the map in the notebook."
      ],
      "metadata": {
        "colab": {
          "base_uri": "https://localhost:8080/",
          "height": 675
        },
        "id": "RbNyaQkoGzw4",
        "outputId": "2a90c846-c36b-4b1e-dca5-488080a14988"
      },
      "execution_count": null,
      "outputs": [
        {
          "output_type": "execute_result",
          "data": {
            "text/plain": [
              "psychotic-independent: https://atlas.nomic.ai/map/cee1e1fa-3128-4e2d-8988-4f07c57bb9c6/07f88eaa-bd4b-4bf6-a055-c663fabd1475"
            ],
            "text/html": [
              "\n",
              "            <h3>Project: psychotic-independent</h3>\n",
              "            <script>\n",
              "            destroy = function() {\n",
              "                document.getElementById(\"iframe07f88eaa-bd4b-4bf6-a055-c663fabd1475\").remove()\n",
              "            }\n",
              "        </script>\n",
              "\n",
              "        <h4>Projection ID: 07f88eaa-bd4b-4bf6-a055-c663fabd1475</h4>\n",
              "        <div class=\"actions\">\n",
              "            <div id=\"hide\" class=\"action\" onclick=\"destroy()\">Hide embedded project</div>\n",
              "            <div class=\"action\" id=\"out\">\n",
              "                <a href=\"https://atlas.nomic.ai/map/cee1e1fa-3128-4e2d-8988-4f07c57bb9c6/07f88eaa-bd4b-4bf6-a055-c663fabd1475\" target=\"_blank\">Explore on atlas.nomic.ai</a>\n",
              "            </div>\n",
              "        </div>\n",
              "        \n",
              "        <iframe class=\"iframe\" id=\"iframe07f88eaa-bd4b-4bf6-a055-c663fabd1475\" allow=\"clipboard-read; clipboard-write\" src=\"https://atlas.nomic.ai/map/cee1e1fa-3128-4e2d-8988-4f07c57bb9c6/07f88eaa-bd4b-4bf6-a055-c663fabd1475\">\n",
              "        </iframe>\n",
              "\n",
              "        <style>\n",
              "            .iframe {\n",
              "                /* vh can be **very** large in vscode ipynb. */\n",
              "                height: min(75vh, 66vw);\n",
              "                width: 100%;\n",
              "            }\n",
              "        </style>\n",
              "        \n",
              "        <style>\n",
              "            .actions {\n",
              "              display: block;\n",
              "            }\n",
              "            .action {\n",
              "              min-height: 18px;\n",
              "              margin: 5px;\n",
              "              transition: all 500ms ease-in-out;\n",
              "            }\n",
              "            .action:hover {\n",
              "              cursor: pointer;\n",
              "            }\n",
              "            #hide:hover::after {\n",
              "                content: \" X\";\n",
              "            }\n",
              "            #out:hover::after {\n",
              "                content: \"\";\n",
              "            }\n",
              "        </style>\n",
              "        \n",
              "            "
            ]
          },
          "metadata": {},
          "execution_count": 26
        }
      ]
    },
    {
      "cell_type": "code",
      "source": [
        "# Now perform similarity search over the map!\n",
        "map = project.maps[0]\n",
        "with project.wait_for_project_lock():\n",
        "  neighbors, _ = map.vector_search(ids=[0], k=5)\n",
        "\n",
        "#print the 5 most similar datapoints to the data point with id = 0 (including the point with id=0)\n",
        "similar_datapoints = project.get_data(ids=neighbors[0])\n",
        "for point in similar_datapoints:\n",
        "  print(point)\n",
        "\n"
      ],
      "metadata": {
        "id": "DioSN8X_HLRg",
        "colab": {
          "base_uri": "https://localhost:8080/"
        },
        "outputId": "561bc412-1dd4-4c85-e9c0-2e1410c33b65"
      },
      "execution_count": null,
      "outputs": [
        {
          "output_type": "stream",
          "name": "stderr",
          "text": [
            "2023-02-20 18:59:31.880 | DEBUG    | nomic.project:wait_for_project_lock:913 - psychotic-independent: Project lock is released.\n"
          ]
        },
        {
          "output_type": "stream",
          "name": "stdout",
          "text": [
            "{'id': 0, 'text': \"QuickTime won't make quick time to cell phones Apple's Frank Cassanova will talk about QuickTime's stealth infiltration of cell phone networks, but not about a rumored wireless iPod.\", 'label': 3}\n",
            "{'id': 7746, 'text': 'Sprint backs Apple tech for video streaming Cell carrier certifies QuickTime format for delivering video to handsets.', 'label': 3}\n",
            "{'id': 2597, 'text': \"Rival Targets Apple's ITunes Customers (AP) AP - For more than a year, Apple Computers Inc. enjoyed singular success selling songs exclusively to users of its iPod portable music player. Now, it's got rival RealNetworks Inc. trying to lure iTunes customers away.\", 'label': 3}\n",
            "{'id': 8767, 'text': 'Can IM morph into  #39;instant music #39;? As Internet giants step into the crowded online music arena, some are banking on a new weapon to help attack market leader Apple Computer: instant messaging.', 'label': 3}\n",
            "{'id': 3324, 'text': 'Now, a cellphone that can advice you! Two Massachusetts Institute of Technology scientists are developing a cellphone that is so smart it can tell what you think and even predict your next move.', 'label': 3}\n"
          ]
        }
      ]
    },
    {
      "cell_type": "code",
      "source": [],
      "metadata": {
        "id": "b9to8vOpL0c1"
      },
      "execution_count": null,
      "outputs": []
    }
  ]
}